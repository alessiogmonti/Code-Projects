{
 "cells": [
  {
   "cell_type": "code",
   "execution_count": null,
   "metadata": {},
   "outputs": [],
   "source": [
    "import numpy as np\n",
    "import numpy.random as nr\n",
    "\n",
    "\n",
    "def super_surface(a0=1., b0=1., c0=1., mm=1., nn=1., res=50):\n",
    "    Epl1 = (mm - 1) * 1 / 4 + 0.15\n",
    "    Epl2 = (nn - 1) * 1 / 4 + 0.15\n",
    "    \n",
    "    eta, phi = np.mgrid[0:2 * np.pi:res * 1j, 0:np.pi:res * 1j]\n",
    "\n",
    "    x00 = a0 * abs(np.cos(eta)) ** Epl1 * abs(np.cos(phi)) ** Epl2 * np.sign(np.cos(phi) * np.cos(eta))\n",
    "    y00 = b0 * abs(np.cos(eta)) ** Epl1 * abs(np.sin(phi)) ** Epl2 * np.sign(np.sin(phi) * np.cos(eta))\n",
    "    z00 = c0 * abs(np.sin(eta)) ** Epl1 * np.sign(np.sin(eta))\n",
    "\n",
    "    return x00, y00, z00\n",
    "\n",
    "def super_volume(x, y, z, a, b, c, mm, nn):\n",
    "    Epl1 = (mm - 1) * 1 / 4 + 0.15\n",
    "    Epl2 = (nn - 1) * 1 / 4 + 0.15\n",
    "\n",
    "    rr = ((np.abs(x / a)) ** (2 / Epl1) + (np.abs(y / b)) ** (2 / Epl1)) ** (Epl1 / Epl2) + (np.abs(z / c)) ** (\n",
    "            2 / Epl2)\n",
    "    return rr\n",
    "\n",
    "def rsgeng_3D(N, rL, h, clx, cly, clz):\n",
    "    np.random.seed()\n",
    "    ZZ = h * nr.randn(N, N, N)\n",
    "\n",
    "    x, y, z = np.linspace(-rL / 2, rL / 2, num=N, endpoint=True), \\\n",
    "              np.linspace(-rL / 2, rL / 2, num=N, endpoint=True), \\\n",
    "              np.linspace(-rL / 2, rL / 2, num=N, endpoint=True)\n",
    "\n",
    "    [X, Y, Z] = np.meshgrid(x, y, z, indexing='ij')\n",
    "    F = np.exp(-X ** 2 / ((clx ** 2) / 2) - Y ** 2 / ((cly ** 2) / 2) - Z ** 2 / ((clz ** 2) / 2))\n",
    "    f = 2 / np.sqrt(np.pi) * (rL / N / np.sqrt(clx * cly * clz)) * np.fft.ifftn(np.fft.fftn(ZZ) * np.fft.fftn(F))\n",
    "    return f, x, y, z\n"
   ]
  }
 ],
 "metadata": {
  "kernelspec": {
   "display_name": "Python 3",
   "language": "python",
   "name": "python3"
  },
  "language_info": {
   "codemirror_mode": {
    "name": "ipython",
    "version": 3
   },
   "file_extension": ".py",
   "mimetype": "text/x-python",
   "name": "python",
   "nbconvert_exporter": "python",
   "pygments_lexer": "ipython3",
   "version": "3.8.5"
  }
 },
 "nbformat": 4,
 "nbformat_minor": 4
}
