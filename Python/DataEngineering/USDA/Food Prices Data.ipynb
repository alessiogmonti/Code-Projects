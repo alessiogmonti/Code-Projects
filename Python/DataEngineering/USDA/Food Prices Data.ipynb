{
 "cells": [
  {
   "cell_type": "code",
   "execution_count": 7,
   "id": "7ac82d0a",
   "metadata": {},
   "outputs": [
    {
     "name": "stdout",
     "output_type": "stream",
     "text": [
      "b'{\"help\": \"https://api.foodsecurityportal.org/api/3/action/help_show?name=datastore_search\", \"success\": true, \"result\": {\"include_total\": true, \"limit\": 100, \"q\": \"ISO3Code:USA\", \"records_format\": \"objects\", \"resource_id\": \"c753c186-ce49-5f51-b142-383b8728f537\", \"total_estimation_threshold\": null, \"records\": [], \"fields\": [{\"id\": \"_id\", \"type\": \"int\"}, {\"id\": \"db_id\", \"type\": \"int4\"}, {\"id\": \"last_sync\", \"type\": \"timestamp\"}, {\"id\": \"ISO3Code\", \"type\": \"text\"}, {\"id\": \"country\", \"type\": \"text\"}, {\"id\": \"commodity\", \"type\": \"text\"}, {\"id\": \"indicator\", \"type\": \"text\"}, {\"id\": \"date\", \"type\": \"date\"}, {\"id\": \"sentence\", \"type\": \"text\"}, {\"id\": \"title\", \"type\": \"text\"}, {\"id\": \"url\", \"type\": \"text\"}, {\"id\": \"rank\", \"type\": \"float\"}], \"_links\": {\"start\": \"/api/3/action/datastore_search?resource_id=c753c186-ce49-5f51-b142-383b8728f537&q=ISO3Code%3AUSA\", \"next\": \"/api/3/action/datastore_search?resource_id=c753c186-ce49-5f51-b142-383b8728f537&q=ISO3Code%3AUSA&offset=100\"}, \"total\": 0, \"total_was_estimated\": false}}'\n"
     ]
    }
   ],
   "source": [
    "from urllib.request import urlopen, Request\n",
    "url = 'https://api.foodsecurityportal.org/api/3/action/datastore_search?resource_id=c753c186-ce49-5f51-b142-383b8728f537&q=ISO3Code:USA'  \n",
    "fileobj = urlopen(url)\n",
    "print(fileobj.read())"
   ]
  },
  {
   "cell_type": "code",
   "execution_count": null,
   "id": "ea80b904",
   "metadata": {},
   "outputs": [],
   "source": []
  }
 ],
 "metadata": {
  "kernelspec": {
   "display_name": "Python 3 (ipykernel)",
   "language": "python",
   "name": "python3"
  },
  "language_info": {
   "codemirror_mode": {
    "name": "ipython",
    "version": 3
   },
   "file_extension": ".py",
   "mimetype": "text/x-python",
   "name": "python",
   "nbconvert_exporter": "python",
   "pygments_lexer": "ipython3",
   "version": "3.7.7"
  }
 },
 "nbformat": 4,
 "nbformat_minor": 5
}
