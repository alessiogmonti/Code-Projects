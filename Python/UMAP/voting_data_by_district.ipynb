{
 "cells": [
  {
   "cell_type": "markdown",
   "metadata": {},
   "source": [
    "# Election results by District\n",
    "\n",
    "When visualizing the voting records of representatives in the US House of Representatives it will be useful to have some idea not just of the party that the representatives belongs to, but also the degree of partisan lean that might be expected from the representative. To get some data on this one approach is simply to allocate a partisan lean based on the relative margin of victory in their district -- the larger the relative margin of victory the more partisan we might expect the representative to be. Because we are simply using this data to assign colors to representatives in a visualization we will be rather imprecise. If you want to use this data for any quantitative purposes a lot more care and a lot less corner cutting will be required. We can access this data via records of elections kept at Harvard."
   ]
  },
  {
   "cell_type": "code",
   "execution_count": 1,
   "metadata": {},
   "outputs": [],
   "source": [
    "!wget -q -O \"1976-2018-house.csv\" https://dataverse.harvard.edu/api/access/datafile/3814252?gbrecs=false"
   ]
  },
  {
   "cell_type": "markdown",
   "metadata": {},
   "source": [
    "The next step is to process this data -- which is rather more extensive and detailed that we require -- into something relatively simple that records the relative partisan lean of each representative based on their election results each election. We can use pandas for this data wrangling."
   ]
  },
  {
   "cell_type": "code",
   "execution_count": 2,
   "metadata": {},
   "outputs": [],
   "source": [
    "import pandas as pd"
   ]
  },
  {
   "cell_type": "markdown",
   "metadata": {},
   "source": [
    "First let's just load the csv file that we downloaded and see what it contains."
   ]
  },
  {
   "cell_type": "code",
   "execution_count": 4,
   "metadata": {},
   "outputs": [],
   "source": [
    "election_data = pd.read_csv(\"1976-2018-house.csv\", sep=\"\\t\")"
   ]
  },
  {
   "cell_type": "code",
   "execution_count": 5,
   "metadata": {},
   "outputs": [
    {
     "data": {
      "text/html": [
       "<div>\n",
       "<style scoped>\n",
       "    .dataframe tbody tr th:only-of-type {\n",
       "        vertical-align: middle;\n",
       "    }\n",
       "\n",
       "    .dataframe tbody tr th {\n",
       "        vertical-align: top;\n",
       "    }\n",
       "\n",
       "    .dataframe thead th {\n",
       "        text-align: right;\n",
       "    }\n",
       "</style>\n",
       "<table border=\"1\" class=\"dataframe\">\n",
       "  <thead>\n",
       "    <tr style=\"text-align: right;\">\n",
       "      <th></th>\n",
       "      <th>year</th>\n",
       "      <th>state</th>\n",
       "      <th>state_po</th>\n",
       "      <th>state_fips</th>\n",
       "      <th>state_cen</th>\n",
       "      <th>state_ic</th>\n",
       "      <th>office</th>\n",
       "      <th>district</th>\n",
       "      <th>stage</th>\n",
       "      <th>runoff</th>\n",
       "      <th>special</th>\n",
       "      <th>candidate</th>\n",
       "      <th>party</th>\n",
       "      <th>writein</th>\n",
       "      <th>mode</th>\n",
       "      <th>candidatevotes</th>\n",
       "      <th>totalvotes</th>\n",
       "      <th>unofficial</th>\n",
       "      <th>version</th>\n",
       "    </tr>\n",
       "  </thead>\n",
       "  <tbody>\n",
       "    <tr>\n",
       "      <th>0</th>\n",
       "      <td>1976</td>\n",
       "      <td>Alabama</td>\n",
       "      <td>AL</td>\n",
       "      <td>1</td>\n",
       "      <td>63</td>\n",
       "      <td>41</td>\n",
       "      <td>US House</td>\n",
       "      <td>1</td>\n",
       "      <td>gen</td>\n",
       "      <td>False</td>\n",
       "      <td>False</td>\n",
       "      <td>Bill Davenport</td>\n",
       "      <td>democrat</td>\n",
       "      <td>False</td>\n",
       "      <td>total</td>\n",
       "      <td>58906</td>\n",
       "      <td>157170</td>\n",
       "      <td>False</td>\n",
       "      <td>20200424</td>\n",
       "    </tr>\n",
       "    <tr>\n",
       "      <th>1</th>\n",
       "      <td>1976</td>\n",
       "      <td>Alabama</td>\n",
       "      <td>AL</td>\n",
       "      <td>1</td>\n",
       "      <td>63</td>\n",
       "      <td>41</td>\n",
       "      <td>US House</td>\n",
       "      <td>1</td>\n",
       "      <td>gen</td>\n",
       "      <td>False</td>\n",
       "      <td>False</td>\n",
       "      <td>Jack Edwards</td>\n",
       "      <td>republican</td>\n",
       "      <td>False</td>\n",
       "      <td>total</td>\n",
       "      <td>98257</td>\n",
       "      <td>157170</td>\n",
       "      <td>False</td>\n",
       "      <td>20200424</td>\n",
       "    </tr>\n",
       "    <tr>\n",
       "      <th>2</th>\n",
       "      <td>1976</td>\n",
       "      <td>Alabama</td>\n",
       "      <td>AL</td>\n",
       "      <td>1</td>\n",
       "      <td>63</td>\n",
       "      <td>41</td>\n",
       "      <td>US House</td>\n",
       "      <td>1</td>\n",
       "      <td>gen</td>\n",
       "      <td>False</td>\n",
       "      <td>False</td>\n",
       "      <td>NaN</td>\n",
       "      <td>NaN</td>\n",
       "      <td>True</td>\n",
       "      <td>total</td>\n",
       "      <td>7</td>\n",
       "      <td>157170</td>\n",
       "      <td>False</td>\n",
       "      <td>20200424</td>\n",
       "    </tr>\n",
       "    <tr>\n",
       "      <th>3</th>\n",
       "      <td>1976</td>\n",
       "      <td>Alabama</td>\n",
       "      <td>AL</td>\n",
       "      <td>1</td>\n",
       "      <td>63</td>\n",
       "      <td>41</td>\n",
       "      <td>US House</td>\n",
       "      <td>2</td>\n",
       "      <td>gen</td>\n",
       "      <td>False</td>\n",
       "      <td>False</td>\n",
       "      <td>J. Carole Keahey</td>\n",
       "      <td>democrat</td>\n",
       "      <td>False</td>\n",
       "      <td>total</td>\n",
       "      <td>66288</td>\n",
       "      <td>156362</td>\n",
       "      <td>False</td>\n",
       "      <td>20200424</td>\n",
       "    </tr>\n",
       "    <tr>\n",
       "      <th>4</th>\n",
       "      <td>1976</td>\n",
       "      <td>Alabama</td>\n",
       "      <td>AL</td>\n",
       "      <td>1</td>\n",
       "      <td>63</td>\n",
       "      <td>41</td>\n",
       "      <td>US House</td>\n",
       "      <td>2</td>\n",
       "      <td>gen</td>\n",
       "      <td>False</td>\n",
       "      <td>False</td>\n",
       "      <td>NaN</td>\n",
       "      <td>NaN</td>\n",
       "      <td>True</td>\n",
       "      <td>total</td>\n",
       "      <td>5</td>\n",
       "      <td>156362</td>\n",
       "      <td>False</td>\n",
       "      <td>20200424</td>\n",
       "    </tr>\n",
       "  </tbody>\n",
       "</table>\n",
       "</div>"
      ],
      "text/plain": [
       "   year    state state_po  state_fips  state_cen  state_ic    office  \\\n",
       "0  1976  Alabama       AL           1         63        41  US House   \n",
       "1  1976  Alabama       AL           1         63        41  US House   \n",
       "2  1976  Alabama       AL           1         63        41  US House   \n",
       "3  1976  Alabama       AL           1         63        41  US House   \n",
       "4  1976  Alabama       AL           1         63        41  US House   \n",
       "\n",
       "   district stage runoff  special         candidate       party  writein  \\\n",
       "0         1   gen  False    False    Bill Davenport    democrat    False   \n",
       "1         1   gen  False    False      Jack Edwards  republican    False   \n",
       "2         1   gen  False    False               NaN         NaN     True   \n",
       "3         2   gen  False    False  J. Carole Keahey    democrat    False   \n",
       "4         2   gen  False    False               NaN         NaN     True   \n",
       "\n",
       "    mode  candidatevotes  totalvotes  unofficial   version  \n",
       "0  total           58906      157170       False  20200424  \n",
       "1  total           98257      157170       False  20200424  \n",
       "2  total               7      157170       False  20200424  \n",
       "3  total           66288      156362       False  20200424  \n",
       "4  total               5      156362       False  20200424  "
      ]
     },
     "execution_count": 5,
     "metadata": {},
     "output_type": "execute_result"
    }
   ],
   "source": [
    "election_data.head()"
   ]
  },
  {
   "cell_type": "markdown",
   "metadata": {},
   "source": [
    "The first thing that needs to be dealt with is the fact that candidates potentially belonged to multiple parties over the entire electoral career. This is not just a case of switching between Republican and Democrat, but actually much more commonly moving between a smaller party such as Libertarian, Green, etc. and Republican or Democrat. While keeping track of all of this is potentially useful, for the purposes of the visualizations we wish to protray it will be much simpler if we just align each candidate to the party that they belonged to for most of the elections they participated in. In theory this is as simple as assigning each candidate to the most common party. In practice we have to handle odd corner cases like equal splits between parties (largely for lesser known / unelected candidates)."
   ]
  },
  {
   "cell_type": "code",
   "execution_count": 6,
   "metadata": {},
   "outputs": [],
   "source": [
    "unique_party_mapping = election_data.groupby('candidate').party.agg(pd.Series.mode).to_dict()\n",
    "for k, v in unique_party_mapping.items():\n",
    "    if type(v) != str:\n",
    "        if len(v) > 1:\n",
    "            unique_party_mapping[k] = v[0]\n",
    "        else:\n",
    "             unique_party_mapping[k] = \"N/A\""
   ]
  },
  {
   "cell_type": "markdown",
   "metadata": {},
   "source": [
    "We can now set a single unique party affiliation for each candidate -- which will suffice for the level of analysis we are doing."
   ]
  },
  {
   "cell_type": "code",
   "execution_count": 7,
   "metadata": {},
   "outputs": [],
   "source": [
    "election_data[\"party\"] = election_data.candidate.map(unique_party_mapping)"
   ]
  },
  {
   "cell_type": "markdown",
   "metadata": {},
   "source": [
    "Now we need to determine the margin of victory and assign a partisan lean score for each candidate that won. That means we need to create a function that, given a dataframe of all the candidates and relults for *a single election and district*, can return the winning candidate and a score as to their partisan lean. Again there are all manner of corner cases that can arise, but since our use of this data is fairly simple and limited we will prune things down and ignore most of the odd cases -- for example we'll reduce everything to just Republican and Democrat for simplicity. For a partisan lean score we will produce a value between 0 and 1 with 0 representing a 100% Republican, and 1 representing 100% Democrat."
   ]
  },
  {
   "cell_type": "code",
   "execution_count": 8,
   "metadata": {},
   "outputs": [],
   "source": [
    "def winner_and_party_ratio(df):\n",
    "    winner = df[df.candidatevotes == df.candidatevotes.max()]\n",
    "    winning_party = winner.party.values\n",
    "    losing_party = \"republican\" if winning_party == \"democrat\" else \"democrat\"\n",
    "    loser = df[df.party == losing_party]\n",
    "    winner_votes = winner.candidatevotes.values\n",
    "    loser_votes = loser.candidatevotes.values.sum() if len(loser) > 0 else 0\n",
    "    if winning_party == \"republican\" or winning_party == \"conservative\":\n",
    "        ratio = 1.0 - (winner_votes / (winner_votes + loser_votes))\n",
    "    else:\n",
    "        ratio = (winner_votes / (winner_votes + loser_votes))\n",
    "    \n",
    "    return pd.DataFrame({\"year\": winner.year.values, \"state\": winner.state_po.values, \"district\": winner.district.values, \n",
    "                         \"winner\": winner.candidate.values, \"party\": winner.party.values, \"winning_ratio\": ratio})"
   ]
  },
  {
   "cell_type": "markdown",
   "metadata": {},
   "source": [
    "Now we can process the data by using a groupby to select out the individual elections (year, state and district) and using our function to convert each sub-dataframe into a single result giving data on the winner of each election."
   ]
  },
  {
   "cell_type": "code",
   "execution_count": 9,
   "metadata": {},
   "outputs": [
    {
     "name": "stderr",
     "output_type": "stream",
     "text": [
      "<ipython-input-8-f34cb21952ef>:11: RuntimeWarning: invalid value encountered in true_divide\n",
      "  ratio = (winner_votes / (winner_votes + loser_votes))\n"
     ]
    }
   ],
   "source": [
    "result = []\n",
    "for key, df in election_data[election_data.stage == \"gen\"].groupby([\"year\", \"state_po\", \"district\"]):\n",
    "    result.append(winner_and_party_ratio(df))\n",
    "election_winners = pd.concat(result)"
   ]
  },
  {
   "cell_type": "markdown",
   "metadata": {},
   "source": [
    "We can check that the resulting dataframe has the sort of information we expect."
   ]
  },
  {
   "cell_type": "code",
   "execution_count": 10,
   "metadata": {},
   "outputs": [
    {
     "data": {
      "text/html": [
       "<div>\n",
       "<style scoped>\n",
       "    .dataframe tbody tr th:only-of-type {\n",
       "        vertical-align: middle;\n",
       "    }\n",
       "\n",
       "    .dataframe tbody tr th {\n",
       "        vertical-align: top;\n",
       "    }\n",
       "\n",
       "    .dataframe thead th {\n",
       "        text-align: right;\n",
       "    }\n",
       "</style>\n",
       "<table border=\"1\" class=\"dataframe\">\n",
       "  <thead>\n",
       "    <tr style=\"text-align: right;\">\n",
       "      <th></th>\n",
       "      <th>year</th>\n",
       "      <th>state</th>\n",
       "      <th>district</th>\n",
       "      <th>winner</th>\n",
       "      <th>party</th>\n",
       "      <th>winning_ratio</th>\n",
       "    </tr>\n",
       "  </thead>\n",
       "  <tbody>\n",
       "    <tr>\n",
       "      <th>0</th>\n",
       "      <td>1976</td>\n",
       "      <td>AK</td>\n",
       "      <td>0</td>\n",
       "      <td>Don Young</td>\n",
       "      <td>republican</td>\n",
       "      <td>0.289986</td>\n",
       "    </tr>\n",
       "    <tr>\n",
       "      <th>0</th>\n",
       "      <td>1976</td>\n",
       "      <td>AL</td>\n",
       "      <td>1</td>\n",
       "      <td>Jack Edwards</td>\n",
       "      <td>republican</td>\n",
       "      <td>0.374808</td>\n",
       "    </tr>\n",
       "    <tr>\n",
       "      <th>0</th>\n",
       "      <td>1976</td>\n",
       "      <td>AL</td>\n",
       "      <td>2</td>\n",
       "      <td>William L. \\\\\"Bill\\\"\\\" Dickinson\"</td>\n",
       "      <td>republican</td>\n",
       "      <td>0.423953</td>\n",
       "    </tr>\n",
       "    <tr>\n",
       "      <th>0</th>\n",
       "      <td>1976</td>\n",
       "      <td>AL</td>\n",
       "      <td>3</td>\n",
       "      <td>Bill Nichols</td>\n",
       "      <td>democrat</td>\n",
       "      <td>1.000000</td>\n",
       "    </tr>\n",
       "    <tr>\n",
       "      <th>0</th>\n",
       "      <td>1976</td>\n",
       "      <td>AL</td>\n",
       "      <td>4</td>\n",
       "      <td>Tom Bevill</td>\n",
       "      <td>democrat</td>\n",
       "      <td>0.803825</td>\n",
       "    </tr>\n",
       "  </tbody>\n",
       "</table>\n",
       "</div>"
      ],
      "text/plain": [
       "   year state  district                             winner       party  \\\n",
       "0  1976    AK         0                          Don Young  republican   \n",
       "0  1976    AL         1                       Jack Edwards  republican   \n",
       "0  1976    AL         2  William L. \\\\\"Bill\\\"\\\" Dickinson\"  republican   \n",
       "0  1976    AL         3                       Bill Nichols    democrat   \n",
       "0  1976    AL         4                         Tom Bevill    democrat   \n",
       "\n",
       "   winning_ratio  \n",
       "0       0.289986  \n",
       "0       0.374808  \n",
       "0       0.423953  \n",
       "0       1.000000  \n",
       "0       0.803825  "
      ]
     },
     "execution_count": 10,
     "metadata": {},
     "output_type": "execute_result"
    }
   ],
   "source": [
    "election_winners.head()"
   ]
  },
  {
   "cell_type": "markdown",
   "metadata": {},
   "source": [
    "The result in Alabama with a score of 1.0 stands out -- that would be a 100% vote margin for thw winner -- which seems odd. A little research turns up the fact that the candidate was running (essentially) unopposed in that district, so our simplistic calculation of the Republican / Democrat vote share gave this as a result. Again, if you are using this for quantitative purposes you will want to be more careful, but for generating colors for a plot this will suffice for now.\n",
    "\n",
    "We can check on the distribution of values to see how often this sort of thing happens though:"
   ]
  },
  {
   "cell_type": "code",
   "execution_count": 11,
   "metadata": {},
   "outputs": [],
   "source": [
    "import seaborn as sns"
   ]
  },
  {
   "cell_type": "code",
   "execution_count": 12,
   "metadata": {},
   "outputs": [
    {
     "name": "stderr",
     "output_type": "stream",
     "text": [
      "/opt/anaconda3/lib/python3.8/site-packages/seaborn/distributions.py:2551: FutureWarning: `distplot` is a deprecated function and will be removed in a future version. Please adapt your code to use either `displot` (a figure-level function with similar flexibility) or `histplot` (an axes-level function for histograms).\n",
      "  warnings.warn(msg, FutureWarning)\n"
     ]
    },
    {
     "data": {
      "text/plain": [
       "<AxesSubplot:xlabel='winning_ratio', ylabel='Density'>"
      ]
     },
     "execution_count": 12,
     "metadata": {},
     "output_type": "execute_result"
    },
    {
     "data": {
      "image/png": "[encoded data removed]",
      "text/plain": [
       "<Figure size 432x288 with 1 Axes>"
      ]
     },
     "metadata": {
      "needs_background": "light"
     },
     "output_type": "display_data"
    }
   ],
   "source": [
    "sns.distplot(election_winners.winning_ratio)"
   ]
  },
  {
   "cell_type": "markdown",
   "metadata": {},
   "source": [
    "Not great, but good enough for the purposes to which we wish to put this data. We can save it off far later use."
   ]
  },
  {
   "cell_type": "code",
   "execution_count": 13,
   "metadata": {},
   "outputs": [],
   "source": [
    "election_winners.to_csv('election_winners_1976-2018.csv')"
   ]
  },
  {
   "cell_type": "code",
   "execution_count": null,
   "metadata": {},
   "outputs": [],
   "source": []
  }
 ],
 "metadata": {
  "kernelspec": {
   "display_name": "Python 3",
   "language": "python",
   "name": "python3"
  },
  "language_info": {
   "codemirror_mode": {
    "name": "ipython",
    "version": 3
   },
   "file_extension": ".py",
   "mimetype": "text/x-python",
   "name": "python",
   "nbconvert_exporter": "python",
   "pygments_lexer": "ipython3",
   "version": "3.8.5"
  }
 },
 "nbformat": 4,
 "nbformat_minor": 4
}
