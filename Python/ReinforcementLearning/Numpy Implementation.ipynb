{
 "cells": [
  {
   "cell_type": "code",
   "execution_count": 1,
   "metadata": {},
   "outputs": [],
   "source": [
    "import numpy as np"
   ]
  },
  {
   "cell_type": "code",
   "execution_count": 2,
   "metadata": {},
   "outputs": [],
   "source": [
    "loc2state = { 'L1' : 0, 'L2' : 1, 'L3' : 2, 'L4' : 3, \n",
    "             'L5' : 4, 'L6' : 5, 'L7' : 6, 'L8' : 7, \n",
    "             'L9' : 8}\n",
    "\n",
    "actions = [0, 1, 2, 3, 4, 5, 6, 7, 8]\n",
    "\n",
    "rewards = np.array([[0,1,0,0,0,0,0,0,0],\n",
    "                    [1,0,1,0,1,0,0,0,0],\n",
    "                    [0,1,0,0,0,1,0,0,0],\n",
    "                    [0,0,0,0,0,0,1,0,0],\n",
    "                    [0,1,0,0,0,0,0,1,0],\n",
    "                    [0,0,1,0,0,0,0,0,0],\n",
    "                    [0,0,0,1,0,0,0,1,0],\n",
    "                    [0,0,0,0,1,0,1,0,1],\n",
    "                    [0,0,0,0,0,0,0,1,0]])\n",
    "\n",
    "state2loc = dict((state,location) for location,state in loc2state.items())\n",
    "\n",
    "discount = 0.7 #gamma\n",
    "lrate = 0.95 #alpha\n",
    "\n",
    "\n",
    "def get_optimal_route(start_location, end_location):\n",
    "    \n",
    "    rewards2 = np.copy(rewards)\n",
    "    endState = loc2state[end_location]\n",
    "    rewards2[endState,endState] = 999\n",
    "    current_state = np.random.randint(0,9)\n",
    "    \n",
    "    qVals = np.array(np.zeros([9,9]))\n",
    "\n",
    "    for i in range(800):\n",
    "        playable_actions = []          \n",
    "        for j in range(9):\n",
    "            if rewards2[current_state,j] > 0:\n",
    "                playable_actions.append(j)    \n",
    "        next_state = np.random.choice(playable_actions)\n",
    "        TD = rewards2[current_state,next_state]+discount*qVals[next_state, np.argmax(qVals[next_state,])] - qVals[current_state,next_state]\n",
    "        qVals[current_state,next_state] += lrate * TD\n",
    "\n",
    "    route = [start_location]\n",
    "\n",
    "    next_location = start_location\n",
    "\n",
    "    while(next_location != end_location):\n",
    "        starting_state = loc2state[start_location]\n",
    "        next_state = np.argmax(qVals[starting_state,])\n",
    "        next_location = state2loc[next_state]\n",
    "        route.append(next_location)\n",
    "        start_location = next_location\n",
    "    return route\n",
    "        "
   ]
  },
  {
   "cell_type": "code",
   "execution_count": 3,
   "metadata": {},
   "outputs": [
    {
     "ename": "KeyboardInterrupt",
     "evalue": "",
     "output_type": "error",
     "traceback": [
      "\u001b[0;31m---------------------------------------------------------------------------\u001b[0m",
      "\u001b[0;31mKeyboardInterrupt\u001b[0m                         Traceback (most recent call last)",
      "\u001b[0;32m<ipython-input-3-759f569b7ce6>\u001b[0m in \u001b[0;36m<module>\u001b[0;34m\u001b[0m\n\u001b[0;32m----> 1\u001b[0;31m \u001b[0mprint\u001b[0m\u001b[0;34m(\u001b[0m\u001b[0mget_optimal_route\u001b[0m\u001b[0;34m(\u001b[0m\u001b[0;34m'L9'\u001b[0m\u001b[0;34m,\u001b[0m \u001b[0;34m'L3'\u001b[0m\u001b[0;34m)\u001b[0m\u001b[0;34m)\u001b[0m\u001b[0;34m\u001b[0m\u001b[0;34m\u001b[0m\u001b[0m\n\u001b[0m",
      "\u001b[0;32m<ipython-input-2-e514722489cd>\u001b[0m in \u001b[0;36mget_optimal_route\u001b[0;34m(start_location, end_location)\u001b[0m\n\u001b[1;32m     44\u001b[0m \u001b[0;34m\u001b[0m\u001b[0m\n\u001b[1;32m     45\u001b[0m     \u001b[0;32mwhile\u001b[0m\u001b[0;34m(\u001b[0m\u001b[0mnext_location\u001b[0m \u001b[0;34m!=\u001b[0m \u001b[0mend_location\u001b[0m\u001b[0;34m)\u001b[0m\u001b[0;34m:\u001b[0m\u001b[0;34m\u001b[0m\u001b[0;34m\u001b[0m\u001b[0m\n\u001b[0;32m---> 46\u001b[0;31m         \u001b[0mstarting_state\u001b[0m \u001b[0;34m=\u001b[0m \u001b[0mloc2state\u001b[0m\u001b[0;34m[\u001b[0m\u001b[0mstart_location\u001b[0m\u001b[0;34m]\u001b[0m\u001b[0;34m\u001b[0m\u001b[0;34m\u001b[0m\u001b[0m\n\u001b[0m\u001b[1;32m     47\u001b[0m         \u001b[0mnext_state\u001b[0m \u001b[0;34m=\u001b[0m \u001b[0mnp\u001b[0m\u001b[0;34m.\u001b[0m\u001b[0margmax\u001b[0m\u001b[0;34m(\u001b[0m\u001b[0mqVals\u001b[0m\u001b[0;34m[\u001b[0m\u001b[0mstarting_state\u001b[0m\u001b[0;34m,\u001b[0m\u001b[0;34m]\u001b[0m\u001b[0;34m)\u001b[0m\u001b[0;34m\u001b[0m\u001b[0;34m\u001b[0m\u001b[0m\n\u001b[1;32m     48\u001b[0m         \u001b[0mnext_location\u001b[0m \u001b[0;34m=\u001b[0m \u001b[0mstate2loc\u001b[0m\u001b[0;34m[\u001b[0m\u001b[0mnext_state\u001b[0m\u001b[0;34m]\u001b[0m\u001b[0;34m\u001b[0m\u001b[0;34m\u001b[0m\u001b[0m\n",
      "\u001b[0;31mKeyboardInterrupt\u001b[0m: "
     ]
    }
   ],
   "source": [
    "print(get_optimal_route('L9', 'L3'))    "
   ]
  },
  {
   "cell_type": "code",
   "execution_count": null,
   "metadata": {},
   "outputs": [],
   "source": [
    "class QAgent():\n",
    "    def __init__(self, alpha, gamma, location_to_state, state_to_location, actions, rewards, Q):\n",
    "        self.gamma = gamma\n",
    "        self.alpha = alpha\n",
    "        \n",
    "        self.location_to_state = location_to_state\n",
    "        self.state_to_location = state_to_location\n",
    "        \n",
    "        self.actions = actions\n",
    "        self.rewards = rewards\n",
    "        self.Q = Q\n",
    "    \n",
    "    def training(self, start_location, end_location, iterations):\n",
    "        rewards_new = np.copy(self.rewards)\n",
    "        ending_state = self.location_to_state[end_location]\n",
    "        \n",
    "        \n",
    "        \n",
    "        "
   ]
  }
 ],
 "metadata": {
  "kernelspec": {
   "display_name": "Python 3 (ipykernel)",
   "language": "python",
   "name": "python3"
  },
  "language_info": {
   "codemirror_mode": {
    "name": "ipython",
    "version": 3
   },
   "file_extension": ".py",
   "mimetype": "text/x-python",
   "name": "python",
   "nbconvert_exporter": "python",
   "pygments_lexer": "ipython3",
   "version": "3.7.7"
  }
 },
 "nbformat": 4,
 "nbformat_minor": 4
}
