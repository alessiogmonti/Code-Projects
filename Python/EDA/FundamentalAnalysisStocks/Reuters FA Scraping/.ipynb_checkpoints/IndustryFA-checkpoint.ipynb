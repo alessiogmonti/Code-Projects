{
 "cells": [
  {
   "cell_type": "code",
   "execution_count": 13,
   "id": "edf8684e",
   "metadata": {},
   "outputs": [],
   "source": [
    "import re\n",
    "import datetime\n",
    "from datetime import date\n",
    "import pandas as pd\n",
    "import pandas_datareader as web\n",
    "import matplotlib.pyplot as plt\n",
    "from bs4 import BeautifulSoup\n",
    "from urllib.request import urlopen, Request\n",
    "import numpy as np\n",
    "import seaborn as sns\n",
    "%matplotlib inline\n",
    "pd.set_option('display.max_columns', 40)\n",
    "pd.set_option('display.max_rows', 100)"
   ]
  },
  {
   "cell_type": "code",
   "execution_count": 9,
   "id": "6cb6e0cb",
   "metadata": {},
   "outputs": [
    {
     "name": "stdout",
     "output_type": "stream",
     "text": [
      "   ticker financialReport  year metric        value\n",
      "0  NFLX.O   balance_sheet  2020   Cash  3331.860000\n",
      "1  NFLX.O   balance_sheet  2019   Cash  3103.525000\n",
      "2  NFLX.O   balance_sheet  2018   Cash  2572.685000\n",
      "3  NFLX.O   balance_sheet  2016   Cash  1264.126000\n",
      "4  NFLX.O   balance_sheet  2015   Cash  1706.592000\n"
     ]
    }
   ],
   "source": [
    "from reuterspy import Reuters\n",
    "\n",
    "reuters = Reuters()\n",
    "\n",
    "ticker_list = ['NFLX.O']\n",
    "df = reuters.get_balance_sheet(ticker_list)\n",
    "\n",
    "print(df.head())"
   ]
  },
  {
   "cell_type": "code",
   "execution_count": 11,
   "id": "df5d9b17",
   "metadata": {},
   "outputs": [
    {
     "name": "stdout",
     "output_type": "stream",
     "text": [
      "[('__func__', <function Reuters.get_balance_sheet at 0x10c015cb0>)]\n"
     ]
    }
   ],
   "source": []
  },
  {
   "cell_type": "code",
   "execution_count": null,
   "id": "2807a615",
   "metadata": {
    "scrolled": true
   },
   "outputs": [],
   "source": [
    "urlA = 'https://www.reuters.com/companies/NFLX.O/financials/income-statement-quarterly'\n",
    "hdrs = {'User-Agent': 'Mozilla/5.0 (X11; Linux x86_64) AppleWebKit/537.11 (KHTML, like Gecko) Chrome/23.0.1271.64 Safari/537.11',\n",
    "       'Accept': 'text/html,application/xhtml+xml,application/xml;q=0.9,*/*;q=0.8',\n",
    "       'Accept-Charset': 'ISO-8859-1,utf-8;q=0.7,*;q=0.3',\n",
    "       'Accept-Encoding': 'none',\n",
    "       'Accept-Language': 'en-US,en;q=0.8',\n",
    "       'Connection': 'keep-alive'}\n",
    "\n",
    "reqs = Request(url=urlA,headers=hdrs)\n",
    "resps = urlopen(reqs)\n",
    "html = BeautifulSoup(resps, features=\"lxml\")"
   ]
  },
  {
   "cell_type": "code",
   "execution_count": 18,
   "id": "2d878e9c",
   "metadata": {
    "scrolled": false
   },
   "outputs": [
    {
     "name": "stdout",
     "output_type": "stream",
     "text": [
      "Discover Thomson ReutersDirectory of sitesLoginContactSupportfor-phone-onlyfor-tablet-portrait-upfor-tablet-landscape-upfor-desktop-upfor-wide-desktop-upNetflix IncNFLX.OLatest Trade486.69USDChange0.00(0.00%)Volume30,754Today's Range-- - --52 Week Range397.86 - 593.29As of  on the NASDAQ ∙ Minimum 15 minute delayProfileNewsKey DevelopmentsChartsPeopleFinancialsKey MetricsEventsAll ListingsPrice and Volume(USD)Price closing or last bid503.8452 Week High593.2952 Week Low397.86Pricing date10 Day Average Trading Volume3.94Market Capitalization223,404.0052 Week High Date52 Week Low Date3 Month Average Trading Volume88.04Beta0.751 Day Price Change0.8613 Week Price Return (Daily)-8.5226 Week Price Return (Daily)-2.125 Day Price Return (Daily)-1.8852 Week Price Return (Daily)15.42Year To Date Price Return (Daily)-6.82Month to Date Price Return (Daily)-1.88Price Relative to S&P500 (4 Week)-11.49Price Relative to S&P500 (13 Week)-16.00Price Relative to S&P500 (26 Week)-18.84Price Relative to S&P500 (52 Week)-21.43Price Relative to S&P500 (YTD)-17.31Per Share Data(USD)EPS excl. Extra Items (Annual)5.89EPS excl. Extra Items (TTM)8.07EPS Normalized (Annual)7.91Revenue per Share (Annual)55.03Revenue per Share (TTM)58.00Book Value (Per Share Annual)24.98Book Value (Per Share Quarterly)29.06Tangible Book Value (Per Share Annual)-32.33Tangible Book Value (Per Share Quarterly)-29.68Cash Per Share (Per Share Annual)18.53Cash Per Share (Per Share Quarterly)18.95Cash Flow (Per Share Annual)29.94Cash Flow (Per Share TTM)32.61Dividend (Per Share Annual)--Dividends (Per Share TTM)0.00EBITD (Per Share TTM)38.47EPS Basic excl. Extra Items (Annual)6.07EPS Basic excl. Extra Items (TTM)8.30EPS incl. Extra Items (Annual)6.08EPS incl. Extra Items (TTM)8.26Free Cash Flow (Per Share TTM)5.41Dividend (Per Share 5Y)--Valuation(USD)P/E excl. Extra Items (Annual)85.58P/E excl. Extra Items (TTM)62.45P/E Normalized (Annual)63.67Price to sales (Annual)8.94Price to sales (TTM)8.46Price to Tangible Book (Annual)--Price to Tangible Book (Quarterly)--Price to Free Cash Flow (Per Share Annual)115.80Price to Cash Flow (Per Share TTM)15.06Price to Free Cash Flow (Per Share TTM)90.68Price to Book (Annual)20.17Price to Book (Quarterly)17.34P/E Basic excl. Extra Items (TTM)62.83P/E excl. Extra Items High (TTM)291.05P/E excl. Extra Items Low (TTM)64.66P/E incl. Extra Items (TTM)61.01Net Debt (Interim)7,155.64Net Debt (Annual)8,103.42Dividend Yield (5Y)--Dividend Yield--Current Dividend Yield (TTM)0.00Financial Strength(USD)Free Cash Flow (Annual)1,929.15Current Ratio (Annual)1.25Net Interest coverage (Annual)4.10Long Term Debt/Equity (Annual)142.87Payout Ratio (Annual)0.00Quick Ratio (Annual)--Total Debt/Total Equity (Annual)147.39Current EV/Free Cash Flow (Annual)17.67Current EV/Free Cash Flow (TTM)16.06Current Ratio (Quarterly)1.27Long Term Debt/Equity (Quarterly)115.34Quick Ratio (Quarterly)--Total Debt/Total Equity (Quarterly)120.76Free Cash Flow (TTM)2,463.52Net Interest Coverage (TTM)5.51Payout Ratio (TTM)0.00Margins(%)Gross Margin (Annual)43.29Gross Margin (TTM)43.94Net Profit Margin % (Annual)10.70Net Profit Margin (TTM)13.91Operating Margin (Annual)18.34Operating Margin (TTM)21.17Pretax Margin (TTM)16.82Pretax Margin (Annual)12.80Operating Margin (5Y)12.29Pretax Margin (5Y)8.88Free Operating Cash Flow/Revenue (5Y)-9.54Free Operating Cash Flow/Revenue (TTM)9.33Gross Margin (5Y)38.29Net Profit Margin (5Y)7.88Management Effectiveness(USD)Return on Assets (Annual)7.30Return on Equity (TTM)9.77Return on Average Equity (Annual)28.68Return on Average equity (TTM)34.49Return on Investment (Annual)9.13Return on Investment (TTM)12.37Return on Average Assets (5Y)5.47Return on Average Equity (5Y)24.96Return on Investment (5Y)7.28Asset Turnover (Annual)0.68Asset Turnover (TTM)0.70Inventory Turnover (Annual)--Inventory Turnover (TTM)--Net Income/Employee (Annual)297,133.40Net Income/Employee (TTM)390,622.20Receivables Turnover (Annual)46.93Receivables Turnover (TTM)39.19Revenue/Employee (Annual)2,777,340.00Revenue/Employee (TTM)2,807,622.00Growth(%)Revenue Growth (Quarterly YoY)24.20Revenue Growth Rate (5Y)29.82EPS Growth (Quarterly YoY)139.04EPS Growth (TTM YoY)73.25EPS Growth Rate (5Y)83.76Dividend Growth Rate (3Y)--Revenue Growth (TTM YoY)23.31Revenue Growth (Per Share 5Y)28.79Revenue Growth Rate (3Y)28.82EPS Growth Rate (3Y)60.35Book Value Growth Rate (Per Share 5Y)36.90Tangible Book Value Total Equity CAGR (5Y)--Capital Spending growth rate 5 year24.09EBITDA CAGR (5Y)33.94EBITDA Interim CAGR (5Y)33.59Free Operating Cash Flow CAGR (5Y)--Total Debt CAGR (5Y)46.70Net Profit Margin Growth Rate (5Y)42.68Income Statement(Mil, USD)Revenue (Annual)24,996.06Revenue (TTM)26,391.65EBITD (Annual)16,608.91EBITD (TTM)17,501.55Earnings Before Taxes (Annual)3,199.35Earnings Before Taxes (TTM)4,437.98Net Income to Common (Annual)2,674.20Net Income to Common (TTM)3,671.85Earnings Before Taxes Normalized (Annual)4,300.35Net Income Available to Common Normalized (Annual)3,594.48Diluted Normalized EPS excl. Extra Items (TTM)9.47All statistics in USD. Abbreviations include:Mil = MillionsTMA = Rolling Three Months AverageTTM = Trailing Twelve MonthsMTD = Month to DateLFQ = Latest Fiscal QuarterLFY = Latest Fiscal YearQuote and financial data from Refinitiv. Fund performance data provided by Lipper. All quotes delayed a minimum of 15 minutes.AppsNewslettersAdvertise with UsAdvertising GuidelinesCookiesTerms of UsePrivacyDo Not Sell My Personal InformationAll quotes delayed a minimum of 15 minutes. See here for a complete list of exchanges and delays.© 0 Reuters. All Rights Reserved.for-phone-onlyfor-tablet-portrait-upfor-tablet-landscape-upfor-desktop-upfor-wide-desktop-up\n"
     ]
    }
   ],
   "source": [
    "main = html.find({'div':'tables-container'}).text\n",
    "print(main)"
   ]
  },
  {
   "cell_type": "code",
   "execution_count": null,
   "id": "b1ad33d8",
   "metadata": {},
   "outputs": [],
   "source": []
  }
 ],
 "metadata": {
  "kernelspec": {
   "display_name": "Python 3",
   "language": "python",
   "name": "python3"
  },
  "language_info": {
   "codemirror_mode": {
    "name": "ipython",
    "version": 3
   },
   "file_extension": ".py",
   "mimetype": "text/x-python",
   "name": "python",
   "nbconvert_exporter": "python",
   "pygments_lexer": "ipython3",
   "version": "3.7.7"
  }
 },
 "nbformat": 4,
 "nbformat_minor": 5
}
