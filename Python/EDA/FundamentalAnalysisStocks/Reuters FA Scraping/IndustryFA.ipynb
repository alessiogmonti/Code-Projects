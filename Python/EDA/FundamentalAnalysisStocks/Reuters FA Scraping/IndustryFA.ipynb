{
 "cells": [
  {
   "cell_type": "code",
   "execution_count": 1,
   "id": "edf8684e",
   "metadata": {},
   "outputs": [],
   "source": [
    "import re\n",
    "import datetime\n",
    "from datetime import date\n",
    "import pandas as pd\n",
    "import pandas_datareader as web\n",
    "import matplotlib.pyplot as plt\n",
    "from bs4 import BeautifulSoup\n",
    "from urllib.request import urlopen, Request\n",
    "import numpy as np\n",
    "import seaborn as sns\n",
    "%matplotlib inline\n",
    "pd.set_option('display.max_columns', 40)\n",
    "pd.set_option('display.max_rows', 100)"
   ]
  },
  {
   "cell_type": "code",
   "execution_count": 17,
   "id": "6cb6e0cb",
   "metadata": {},
   "outputs": [
    {
     "name": "stdout",
     "output_type": "stream",
     "text": [
      "  ticker financialReport  year              metric        value\n",
      "0     DE   balance_sheet  2020  Cash & Equivalents  7066.000000\n",
      "1     DE   balance_sheet  2019  Cash & Equivalents  3857.000000\n",
      "2     DE   balance_sheet  2018  Cash & Equivalents  3904.000000\n",
      "3     DE   balance_sheet  2017  Cash & Equivalents  9334.900000\n",
      "4     DE   balance_sheet  2016  Cash & Equivalents  4335.800000\n"
     ]
    }
   ],
   "source": [
    "from reuterspy import Reuters\n",
    "\n",
    "reuters = Reuters()\n",
    "\n",
    "ticker_list = ['DE']\n",
    "df = reuters.get_balance_sheet(ticker_list)\n",
    "\n",
    "print(df.head())"
   ]
  },
  {
   "cell_type": "code",
   "execution_count": null,
   "id": "df5d9b17",
   "metadata": {},
   "outputs": [],
   "source": []
  },
  {
   "cell_type": "code",
   "execution_count": 3,
   "id": "2807a615",
   "metadata": {
    "scrolled": true
   },
   "outputs": [],
   "source": [
    "urlA = 'https://www.reuters.com/companies/NFLX.O/financials/income-statement-quarterly'\n",
    "hdrs = {'User-Agent': 'Mozilla/5.0 (X11; Linux x86_64) AppleWebKit/537.11 (KHTML, like Gecko) Chrome/23.0.1271.64 Safari/537.11',\n",
    "       'Accept': 'text/html,application/xhtml+xml,application/xml;q=0.9,*/*;q=0.8',\n",
    "       'Accept-Charset': 'ISO-8859-1,utf-8;q=0.7,*;q=0.3',\n",
    "       'Accept-Encoding': 'none',\n",
    "       'Accept-Language': 'en-US,en;q=0.8',\n",
    "       'Connection': 'keep-alive'}\n",
    "\n",
    "reqs = Request(url=urlA,headers=hdrs)\n",
    "resps = urlopen(reqs)\n",
    "html = BeautifulSoup(resps, features=\"lxml\")"
   ]
  },
  {
   "cell_type": "code",
   "execution_count": 4,
   "id": "2d878e9c",
   "metadata": {
    "scrolled": false
   },
   "outputs": [
    {
     "name": "stdout",
     "output_type": "stream",
     "text": [
      "Discover Thomson ReutersDirectory of sitesLoginContactSupportfor-phone-onlyfor-tablet-portrait-upfor-tablet-landscape-upfor-desktop-upfor-wide-desktop-upNetflix IncNFLX.OLatest Trade495.08USDChange0.00(0.00%)Volume20,856Today's Range-- - --52 Week Range397.86 - 593.29As of  on the NASDAQ ∙ Minimum 15 minute delayProfileNewsKey DevelopmentsChartsPeopleFinancialsKey MetricsEventsAll ListingsStatementsAll values displayed in Millions, USD. Fiscal year ends in December.Income StatementBalance SheetCash FlowAnnualQuarterlyIncome StatementBalance SheetCash FlowTrendRevenue7,163.286,644.446,435.646,148.295,767.69Total Revenue7,163.286,644.446,435.646,148.295,767.69Cost of Revenue, Total3,868.513,894.163,590.753,442.713,381.70Gross Profit3,294.772,750.282,844.892,705.582,385.99Selling/General/Admin. Expenses, Total809.711,038.10799.22711.61755.92Research & Development525.21486.94453.80435.05453.82Total Operating Expense5,203.435,690.205,120.774,790.364,809.44Operating Income1,959.86954.241,314.861,357.93958.26Interest Inc.(Exp.),Net-Non-Op., Total74.65(447.83)(453.40)(322.33)(162.39)Net Income Before Taxes2,034.50506.42861.461,035.60795.87Provision for Income Taxes327.7951.4671.48315.4186.80Net Income After Taxes1,706.72454.96789.98720.20709.07Net Income Before Extra. Items1,706.72454.96789.98720.20709.07Net Income1,706.72542.16789.98720.20709.07Income Available to Com Excl ExtraOrd1,706.72454.96789.98720.20709.07Income Available to Com Incl ExtraOrd1,706.72542.16789.98720.20709.07Diluted Net Income1,706.72542.16789.98720.20709.07Diluted Weighted Average Shares455.64455.29455.09453.95452.49Diluted EPS Excluding ExtraOrd Items3.751.001.741.591.57DPS - Common Stock Primary Issue0.000.000.000.00--Diluted Normalized EPS3.751.532.291.892.00Unusual Expense (Income)271.00277.00201.00218.00--Total Extraordinary Items87.19--------Quote and financial data from Refinitiv. Fund performance data provided by Lipper. All quotes delayed a minimum of 15 minutes.AppsNewslettersAdvertise with UsAdvertising GuidelinesCookiesTerms of UsePrivacyDo Not Sell My Personal InformationAll quotes delayed a minimum of 15 minutes. See here for a complete list of exchanges and delays.© 0 Reuters. All Rights Reserved.for-phone-onlyfor-tablet-portrait-upfor-tablet-landscape-upfor-desktop-upfor-wide-desktop-up\n"
     ]
    }
   ],
   "source": [
    "main = html.find({'div':'tables-container'}).text\n",
    "print(main)"
   ]
  },
  {
   "cell_type": "code",
   "execution_count": null,
   "id": "b1ad33d8",
   "metadata": {},
   "outputs": [],
   "source": []
  }
 ],
 "metadata": {
  "kernelspec": {
   "display_name": "Python 3",
   "language": "python",
   "name": "python3"
  },
  "language_info": {
   "codemirror_mode": {
    "name": "ipython",
    "version": 3
   },
   "file_extension": ".py",
   "mimetype": "text/x-python",
   "name": "python",
   "nbconvert_exporter": "python",
   "pygments_lexer": "ipython3",
   "version": "3.7.7"
  }
 },
 "nbformat": 4,
 "nbformat_minor": 5
}
