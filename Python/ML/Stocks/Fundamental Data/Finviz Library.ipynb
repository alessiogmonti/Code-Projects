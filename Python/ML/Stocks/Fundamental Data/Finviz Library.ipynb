{
 "cells": [
  {
   "cell_type": "code",
   "execution_count": 58,
   "id": "27919153",
   "metadata": {},
   "outputs": [],
   "source": [
    "from finvizfinance import group, screener\n",
    "from finvizfinance.group import overview"
   ]
  },
  {
   "cell_type": "code",
   "execution_count": 59,
   "id": "d1927ff7",
   "metadata": {},
   "outputs": [
    {
     "ename": "TypeError",
     "evalue": "ScreenerView() missing 1 required positional argument: 'self'",
     "output_type": "error",
     "traceback": [
      "\u001b[0;31m---------------------------------------------------------------------------\u001b[0m",
      "\u001b[0;31mTypeError\u001b[0m                                 Traceback (most recent call last)",
      "\u001b[0;32m<ipython-input-59-2b7b6e33f077>\u001b[0m in \u001b[0;36m<module>\u001b[0;34m\u001b[0m\n\u001b[0;32m----> 1\u001b[0;31m \u001b[0mdf\u001b[0m \u001b[0;34m=\u001b[0m \u001b[0mfinvizfinance\u001b[0m\u001b[0;34m.\u001b[0m\u001b[0mgroup\u001b[0m\u001b[0;34m.\u001b[0m\u001b[0moverview\u001b[0m\u001b[0;34m.\u001b[0m\u001b[0mOverview\u001b[0m\u001b[0;34m.\u001b[0m\u001b[0mScreenerView\u001b[0m\u001b[0;34m(\u001b[0m\u001b[0mgroup\u001b[0m\u001b[0;34m=\u001b[0m\u001b[0;34m'Sector'\u001b[0m\u001b[0;34m,\u001b[0m \u001b[0;34m)\u001b[0m\u001b[0;34m\u001b[0m\u001b[0;34m\u001b[0m\u001b[0m\n\u001b[0m",
      "\u001b[0;31mTypeError\u001b[0m: ScreenerView() missing 1 required positional argument: 'self'"
     ]
    }
   ],
   "source": [
    "df = finvizfinance.group.overview.Overview.ScreenerView(group='Sector', )"
   ]
  },
  {
   "cell_type": "code",
   "execution_count": 28,
   "id": "78fbd495",
   "metadata": {},
   "outputs": [
    {
     "name": "stdout",
     "output_type": "stream",
     "text": [
      "Help on package finvizfinance:\n",
      "\n",
      "NAME\n",
      "    finvizfinance\n",
      "\n",
      "DESCRIPTION\n",
      "    .. module:: __init__\n",
      "        :synopsis: finvizfinance package general information\n",
      "    \n",
      "    .. moduleauthor:: Tianning Li <ltianningli@gmail.com>\n",
      "\n",
      "PACKAGE CONTENTS\n",
      "    calendar\n",
      "    crypto\n",
      "    earnings\n",
      "    forex\n",
      "    future\n",
      "    group (package)\n",
      "    insider\n",
      "    news\n",
      "    quote\n",
      "    screener (package)\n",
      "    util\n",
      "\n",
      "VERSION\n",
      "    0.9.9\n",
      "\n",
      "AUTHOR\n",
      "    Tianning Li\n",
      "\n",
      "FILE\n",
      "    /opt/anaconda3/envs/TF/lib/python3.7/site-packages/finvizfinance/__init__.py\n",
      "\n",
      "\n"
     ]
    }
   ],
   "source": [
    "help(finvizfinance)"
   ]
  },
  {
   "cell_type": "code",
   "execution_count": 29,
   "id": "48461a6f",
   "metadata": {},
   "outputs": [
    {
     "name": "stdout",
     "output_type": "stream",
     "text": [
      "Help on package finvizfinance.group in finvizfinance:\n",
      "\n",
      "NAME\n",
      "    finvizfinance.group\n",
      "\n",
      "PACKAGE CONTENTS\n",
      "    overview\n",
      "    performance\n",
      "    spectrum\n",
      "    valuation\n",
      "\n",
      "FILE\n",
      "    /opt/anaconda3/envs/TF/lib/python3.7/site-packages/finvizfinance/group/__init__.py\n",
      "\n",
      "\n"
     ]
    }
   ],
   "source": [
    "help(finvizfinance.group)"
   ]
  },
  {
   "cell_type": "code",
   "execution_count": 51,
   "id": "894c9a82",
   "metadata": {},
   "outputs": [
    {
     "data": {
      "text/plain": [
       "False"
      ]
     },
     "execution_count": 51,
     "metadata": {},
     "output_type": "execute_result"
    }
   ],
   "source": []
  },
  {
   "cell_type": "code",
   "execution_count": null,
   "id": "7faba36c",
   "metadata": {},
   "outputs": [],
   "source": []
  }
 ],
 "metadata": {
  "kernelspec": {
   "display_name": "Python 3",
   "language": "python",
   "name": "python3"
  },
  "language_info": {
   "codemirror_mode": {
    "name": "ipython",
    "version": 3
   },
   "file_extension": ".py",
   "mimetype": "text/x-python",
   "name": "python",
   "nbconvert_exporter": "python",
   "pygments_lexer": "ipython3",
   "version": "3.7.7"
  }
 },
 "nbformat": 4,
 "nbformat_minor": 5
}
